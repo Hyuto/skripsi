{
 "cells": [
  {
   "cell_type": "code",
   "execution_count": 1,
   "metadata": {},
   "outputs": [],
   "source": [
    "import os\r\n",
    "import numpy as np\r\n",
    "import pandas as pd"
   ]
  },
  {
   "cell_type": "code",
   "execution_count": 2,
   "metadata": {},
   "outputs": [],
   "source": [
    "list_data = [ 'januari-2021.csv', 'februari-2021.csv', 'maret-2021.csv',\r\n",
    "              'april-2021.csv', 'mei-2021.csv', 'juni-2021.csv',\r\n",
    "              'juli-2021.csv', 'agustus-2021.csv', 'september-2021.csv',\r\n",
    "              'oktober-2021.csv', 'november-2021.csv', 'desember-2021.csv' ]\r\n",
    "\r\n",
    "local = \"../data/\"\r\n",
    "if os.path.isdir(local):\r\n",
    "    main_dir = local\r\n",
    "else:\r\n",
    "    main_dir = \"https://raw.githubusercontent.com/Hyuto/skripsi/master/data/\""
   ]
  },
  {
   "cell_type": "code",
   "execution_count": 3,
   "metadata": {},
   "outputs": [
    {
     "name": "stdout",
     "output_type": "stream",
     "text": [
      "<class 'pandas.core.frame.DataFrame'>\n",
      "Int64Index: 448642 entries, 0 to 19071\n",
      "Data columns (total 3 columns):\n",
      " #   Column   Non-Null Count   Dtype \n",
      "---  ------   --------------   ----- \n",
      " 0   date     448642 non-null  object\n",
      " 1   content  448642 non-null  object\n",
      " 2   url      448642 non-null  object\n",
      "dtypes: object(3)\n",
      "memory usage: 13.7+ MB\n"
     ]
    }
   ],
   "source": [
    "data = pd.concat([pd.read_csv(f\"{main_dir}{x}\") for x in list_data])\r\n",
    "data.info()"
   ]
  },
  {
   "cell_type": "code",
   "execution_count": 4,
   "metadata": {},
   "outputs": [
    {
     "name": "stdout",
     "output_type": "stream",
     "text": [
      "<class 'pandas.core.frame.DataFrame'>\n",
      "Int64Index: 440780 entries, 0 to 19071\n",
      "Data columns (total 3 columns):\n",
      " #   Column   Non-Null Count   Dtype              \n",
      "---  ------   --------------   -----              \n",
      " 0   date     440780 non-null  datetime64[ns, UTC]\n",
      " 1   content  440780 non-null  object             \n",
      " 2   url      440780 non-null  object             \n",
      "dtypes: datetime64[ns, UTC](1), object(2)\n",
      "memory usage: 13.5+ MB\n"
     ]
    }
   ],
   "source": [
    "data[\"date\"] = pd.to_datetime(data[\"date\"])\r\n",
    "data.drop_duplicates(\"content\", inplace=True)\r\n",
    "data.info()"
   ]
  },
  {
   "cell_type": "code",
   "execution_count": 5,
   "metadata": {},
   "outputs": [
    {
     "data": {
      "text/html": [
       "<div>\n",
       "<style scoped>\n",
       "    .dataframe tbody tr th:only-of-type {\n",
       "        vertical-align: middle;\n",
       "    }\n",
       "\n",
       "    .dataframe tbody tr th {\n",
       "        vertical-align: top;\n",
       "    }\n",
       "\n",
       "    .dataframe thead th {\n",
       "        text-align: right;\n",
       "    }\n",
       "</style>\n",
       "<table border=\"1\" class=\"dataframe\">\n",
       "  <thead>\n",
       "    <tr style=\"text-align: right;\">\n",
       "      <th></th>\n",
       "      <th>date</th>\n",
       "      <th>content</th>\n",
       "      <th>url</th>\n",
       "    </tr>\n",
       "  </thead>\n",
       "  <tbody>\n",
       "    <tr>\n",
       "      <th>41210</th>\n",
       "      <td>2021-09-02 01:39:05+00:00</td>\n",
       "      <td>-Dari hasil monitoring, calon Vaksin Merah Put...</td>\n",
       "      <td>https://twitter.com/no_nykrstnd/status/1433243...</td>\n",
       "    </tr>\n",
       "    <tr>\n",
       "      <th>34825</th>\n",
       "      <td>2021-07-15 06:09:36+00:00</td>\n",
       "      <td>[PODCAST] Ngomong Politik - Ilusi Penguatan Ke...</td>\n",
       "      <td>https://twitter.com/DakwahMujahidah/status/141...</td>\n",
       "    </tr>\n",
       "    <tr>\n",
       "      <th>60277</th>\n",
       "      <td>2021-07-05 08:57:50+00:00</td>\n",
       "      <td>3. GAMIS menyambut baik saranan daripada YAB P...</td>\n",
       "      <td>https://twitter.com/gamisjohor/status/14119725...</td>\n",
       "    </tr>\n",
       "    <tr>\n",
       "      <th>26002</th>\n",
       "      <td>2021-09-09 09:17:58+00:00</td>\n",
       "      <td>@txtdaribogor Abis vaksin terbitlah positif covid</td>\n",
       "      <td>https://twitter.com/inyesaw/status/14358952423...</td>\n",
       "    </tr>\n",
       "    <tr>\n",
       "      <th>64224</th>\n",
       "      <td>2021-01-02 04:37:14+00:00</td>\n",
       "      <td>Gambling, vaksin sama ga divaksin.\\nGa divaksi...</td>\n",
       "      <td>https://twitter.com/pringgolakseno/status/1345...</td>\n",
       "    </tr>\n",
       "  </tbody>\n",
       "</table>\n",
       "</div>"
      ],
      "text/plain": [
       "                           date  \\\n",
       "41210 2021-09-02 01:39:05+00:00   \n",
       "34825 2021-07-15 06:09:36+00:00   \n",
       "60277 2021-07-05 08:57:50+00:00   \n",
       "26002 2021-09-09 09:17:58+00:00   \n",
       "64224 2021-01-02 04:37:14+00:00   \n",
       "\n",
       "                                                 content  \\\n",
       "41210  -Dari hasil monitoring, calon Vaksin Merah Put...   \n",
       "34825  [PODCAST] Ngomong Politik - Ilusi Penguatan Ke...   \n",
       "60277  3. GAMIS menyambut baik saranan daripada YAB P...   \n",
       "26002  @txtdaribogor Abis vaksin terbitlah positif covid   \n",
       "64224  Gambling, vaksin sama ga divaksin.\\nGa divaksi...   \n",
       "\n",
       "                                                     url  \n",
       "41210  https://twitter.com/no_nykrstnd/status/1433243...  \n",
       "34825  https://twitter.com/DakwahMujahidah/status/141...  \n",
       "60277  https://twitter.com/gamisjohor/status/14119725...  \n",
       "26002  https://twitter.com/inyesaw/status/14358952423...  \n",
       "64224  https://twitter.com/pringgolakseno/status/1345...  "
      ]
     },
     "execution_count": 5,
     "metadata": {},
     "output_type": "execute_result"
    }
   ],
   "source": [
    "sample = data.sample(5000, random_state=2022)\r\n",
    "sample.head()"
   ]
  },
  {
   "cell_type": "code",
   "execution_count": 6,
   "metadata": {},
   "outputs": [],
   "source": [
    "os.makedirs(\"./output\", exist_ok=True)\r\n",
    "sample.to_csv(\"./output/sample-data.csv\", index=False)"
   ]
  }
 ],
 "metadata": {
  "interpreter": {
   "hash": "edfb7cf478030848c48026988fd4df6a2d2b3cebf5940427e839a29daafe5210"
  },
  "kernelspec": {
   "display_name": "Python 3.8.7 64-bit ('env': venv)",
   "name": "python3"
  },
  "language_info": {
   "codemirror_mode": {
    "name": "ipython",
    "version": 3
   },
   "file_extension": ".py",
   "mimetype": "text/x-python",
   "name": "python",
   "nbconvert_exporter": "python",
   "pygments_lexer": "ipython3",
   "version": "3.8.7"
  },
  "orig_nbformat": 4
 },
 "nbformat": 4,
 "nbformat_minor": 2
}