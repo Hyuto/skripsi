{
 "cells": [
  {
   "cell_type": "markdown",
   "metadata": {},
   "source": [
    "# Sampling Notebook\n",
    "\n",
    "Melakukan sampling pada data hasil scraping.\n",
    "\n",
    "## Load Library\n",
    "\n",
    "Import library yang akan digunakan."
   ]
  },
  {
   "cell_type": "code",
   "execution_count": 1,
   "metadata": {},
   "outputs": [],
   "source": [
    "import os\r\n",
    "import pandas as pd"
   ]
  },
  {
   "cell_type": "markdown",
   "metadata": {},
   "source": [
    "## Load Dataset\n",
    "\n",
    "Load data twitter hasil scraping ke memmory."
   ]
  },
  {
   "cell_type": "code",
   "execution_count": 2,
   "metadata": {},
   "outputs": [],
   "source": [
    "list_data = [ 'januari-2021.csv', 'februari-2021.csv', 'maret-2021.csv',\n",
    "              'april-2021.csv', 'mei-2021.csv', 'juni-2021.csv',\n",
    "              'juli-2021.csv', 'agustus-2021.csv', 'september-2021.csv',\n",
    "              'oktober-2021.csv', 'november-2021.csv', 'desember-2021.csv' ]\n",
    "\n",
    "local = \"../data/\"\n",
    "if os.path.isdir(local):\n",
    "    main_dir = local\n",
    "else:\n",
    "    main_dir = \"https://raw.githubusercontent.com/Hyuto/skripsi/master/data/\""
   ]
  },
  {
   "cell_type": "markdown",
   "metadata": {},
   "source": [
    "**Menggabungkan Data**\n",
    "\n",
    "Menggabungkan semua data menjadi satu dataframe"
   ]
  },
  {
   "cell_type": "code",
   "execution_count": 3,
   "metadata": {},
   "outputs": [
    {
     "name": "stdout",
     "output_type": "stream",
     "text": [
      "<class 'pandas.core.frame.DataFrame'>\n",
      "Int64Index: 371389 entries, 0 to 15903\n",
      "Data columns (total 4 columns):\n",
      " #   Column   Non-Null Count   Dtype \n",
      "---  ------   --------------   ----- \n",
      " 0   date     371389 non-null  object\n",
      " 1   url      371389 non-null  object\n",
      " 2   user     371389 non-null  object\n",
      " 3   content  371389 non-null  object\n",
      "dtypes: object(4)\n",
      "memory usage: 14.2+ MB\n"
     ]
    }
   ],
   "source": [
    "data = pd.concat([pd.read_csv(f\"{main_dir}{x}\") for x in list_data])\n",
    "data.info()"
   ]
  },
  {
   "cell_type": "markdown",
   "metadata": {},
   "source": [
    "## Data Preprocessing\n",
    "\n",
    "Preprocess data yang akan digunakan."
   ]
  },
  {
   "cell_type": "code",
   "execution_count": 4,
   "metadata": {},
   "outputs": [
    {
     "name": "stdout",
     "output_type": "stream",
     "text": [
      "<class 'pandas.core.frame.DataFrame'>\n",
      "Int64Index: 364011 entries, 0 to 15903\n",
      "Data columns (total 4 columns):\n",
      " #   Column   Non-Null Count   Dtype              \n",
      "---  ------   --------------   -----              \n",
      " 0   date     364011 non-null  datetime64[ns, UTC]\n",
      " 1   url      364011 non-null  object             \n",
      " 2   user     364011 non-null  object             \n",
      " 3   content  364011 non-null  object             \n",
      "dtypes: datetime64[ns, UTC](1), object(3)\n",
      "memory usage: 13.9+ MB\n"
     ]
    }
   ],
   "source": [
    "data[\"date\"] = pd.to_datetime(data[\"date\"])\n",
    "data.drop_duplicates(\"content\", inplace=True)\n",
    "data.info()"
   ]
  },
  {
   "cell_type": "markdown",
   "metadata": {},
   "source": [
    "## Sampling\n",
    "\n",
    "Melakukan sampling terhadap data."
   ]
  },
  {
   "cell_type": "code",
   "execution_count": 5,
   "metadata": {},
   "outputs": [
    {
     "data": {
      "text/html": [
       "<div>\n",
       "<style scoped>\n",
       "    .dataframe tbody tr th:only-of-type {\n",
       "        vertical-align: middle;\n",
       "    }\n",
       "\n",
       "    .dataframe tbody tr th {\n",
       "        vertical-align: top;\n",
       "    }\n",
       "\n",
       "    .dataframe thead th {\n",
       "        text-align: right;\n",
       "    }\n",
       "</style>\n",
       "<table border=\"1\" class=\"dataframe\">\n",
       "  <thead>\n",
       "    <tr style=\"text-align: right;\">\n",
       "      <th></th>\n",
       "      <th>date</th>\n",
       "      <th>url</th>\n",
       "      <th>content</th>\n",
       "    </tr>\n",
       "  </thead>\n",
       "  <tbody>\n",
       "    <tr>\n",
       "      <th>11675</th>\n",
       "      <td>2021-05-19 07:32:21+00:00</td>\n",
       "      <td>https://twitter.com/PolresPklKota/status/13949...</td>\n",
       "      <td>Personel Dalmas Sat Sabhara Polres Pekalongan ...</td>\n",
       "    </tr>\n",
       "    <tr>\n",
       "      <th>2165</th>\n",
       "      <td>2021-12-28 03:35:03+00:00</td>\n",
       "      <td>https://twitter.com/lled_y7/status/14756716122...</td>\n",
       "      <td>Kujaga Prokes\\r\\ntetap terpapar covid.\\r\\nKuik...</td>\n",
       "    </tr>\n",
       "    <tr>\n",
       "      <th>37558</th>\n",
       "      <td>2021-09-02 01:09:24+00:00</td>\n",
       "      <td>https://twitter.com/athutuh/status/14332355767...</td>\n",
       "      <td>Berbagai macam jenis vaksin telah diberikan ol...</td>\n",
       "    </tr>\n",
       "    <tr>\n",
       "      <th>50086</th>\n",
       "      <td>2021-07-07 06:48:46+00:00</td>\n",
       "      <td>https://twitter.com/hudori_m/status/1412664871...</td>\n",
       "      <td>@radjadjawa klo saya kacamata awam saja.. mere...</td>\n",
       "    </tr>\n",
       "    <tr>\n",
       "      <th>7502</th>\n",
       "      <td>2021-09-23 00:07:17+00:00</td>\n",
       "      <td>https://twitter.com/JaPenWPKL/status/144083008...</td>\n",
       "      <td>Sistem giliran ini bagi mengelak kesesakan di ...</td>\n",
       "    </tr>\n",
       "  </tbody>\n",
       "</table>\n",
       "</div>"
      ],
      "text/plain": [
       "                           date  \\\n",
       "11675 2021-05-19 07:32:21+00:00   \n",
       "2165  2021-12-28 03:35:03+00:00   \n",
       "37558 2021-09-02 01:09:24+00:00   \n",
       "50086 2021-07-07 06:48:46+00:00   \n",
       "7502  2021-09-23 00:07:17+00:00   \n",
       "\n",
       "                                                     url  \\\n",
       "11675  https://twitter.com/PolresPklKota/status/13949...   \n",
       "2165   https://twitter.com/lled_y7/status/14756716122...   \n",
       "37558  https://twitter.com/athutuh/status/14332355767...   \n",
       "50086  https://twitter.com/hudori_m/status/1412664871...   \n",
       "7502   https://twitter.com/JaPenWPKL/status/144083008...   \n",
       "\n",
       "                                                 content  \n",
       "11675  Personel Dalmas Sat Sabhara Polres Pekalongan ...  \n",
       "2165   Kujaga Prokes\\r\\ntetap terpapar covid.\\r\\nKuik...  \n",
       "37558  Berbagai macam jenis vaksin telah diberikan ol...  \n",
       "50086  @radjadjawa klo saya kacamata awam saja.. mere...  \n",
       "7502   Sistem giliran ini bagi mengelak kesesakan di ...  "
      ]
     },
     "execution_count": 5,
     "metadata": {},
     "output_type": "execute_result"
    }
   ],
   "source": [
    "sample = data.sample(5000, random_state=2022)\n",
    "sample = sample[[\"date\", \"url\", \"content\"]]\n",
    "sample.head()"
   ]
  },
  {
   "cell_type": "markdown",
   "metadata": {},
   "source": [
    "## Export\n",
    "\n",
    "Export data yang telah di sampling."
   ]
  },
  {
   "cell_type": "code",
   "execution_count": 6,
   "metadata": {},
   "outputs": [],
   "source": [
    "os.makedirs(\"../output\", exist_ok=True)\n",
    "sample.to_csv(\"../output/sample-data.csv\", index=False)"
   ]
  }
 ],
 "metadata": {
  "interpreter": {
   "hash": "96ae5abf8237384420d2a4906c8d1fa9f36e683dd75bf5bf99633caef69eab48"
  },
  "kernelspec": {
   "display_name": "Python 3.8.10 64-bit ('skripsi-Fk4nygQi-py3.8': venv)",
   "name": "python3"
  },
  "language_info": {
   "codemirror_mode": {
    "name": "ipython",
    "version": 3
   },
   "file_extension": ".py",
   "mimetype": "text/x-python",
   "name": "python",
   "nbconvert_exporter": "python",
   "pygments_lexer": "ipython3",
   "version": "3.8.10"
  }
 },
 "nbformat": 4,
 "nbformat_minor": 2
}