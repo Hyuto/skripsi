{
 "cells": [
  {
   "cell_type": "code",
   "execution_count": 1,
   "metadata": {},
   "outputs": [],
   "source": [
    "import os\r\n",
    "import re\r\n",
    "import string\r\n",
    "import unicodedata\r\n",
    "import numpy as np\r\n",
    "import pandas as pd\r\n",
    "import matplotlib.pyplot as plt\r\n",
    "import seaborn as sns\r\n",
    "from tqdm.notebook import tqdm\r\n",
    "from indoNLP.preprocessing import (\r\n",
    "    emoji_to_words,\r\n",
    "    remove_html,\r\n",
    "    remove_url,\r\n",
    "    replace_slang,\r\n",
    "    replace_word_elongation,\r\n",
    ")\r\n",
    "from Sastrawi.Stemmer.StemmerFactory import StemmerFactory\r\n",
    "from wordcloud import WordCloud"
   ]
  },
  {
   "cell_type": "code",
   "execution_count": 2,
   "metadata": {},
   "outputs": [],
   "source": [
    "local = \"../data/\"\n",
    "if os.path.isdir(local):\n",
    "    main_dir = local\n",
    "else:\n",
    "    main_dir = \"https://raw.githubusercontent.com/Hyuto/skripsi/master/data/\""
   ]
  },
  {
   "cell_type": "code",
   "execution_count": 3,
   "metadata": {},
   "outputs": [
    {
     "data": {
      "text/html": [
       "<div>\n",
       "<style scoped>\n",
       "    .dataframe tbody tr th:only-of-type {\n",
       "        vertical-align: middle;\n",
       "    }\n",
       "\n",
       "    .dataframe tbody tr th {\n",
       "        vertical-align: top;\n",
       "    }\n",
       "\n",
       "    .dataframe thead th {\n",
       "        text-align: right;\n",
       "    }\n",
       "</style>\n",
       "<table border=\"1\" class=\"dataframe\">\n",
       "  <thead>\n",
       "    <tr style=\"text-align: right;\">\n",
       "      <th></th>\n",
       "      <th>date</th>\n",
       "      <th>url</th>\n",
       "      <th>user</th>\n",
       "      <th>content</th>\n",
       "      <th>label</th>\n",
       "    </tr>\n",
       "  </thead>\n",
       "  <tbody>\n",
       "    <tr>\n",
       "      <th>0</th>\n",
       "      <td>2021-09-02 01:39:05+00:00</td>\n",
       "      <td>https://twitter.com/no_nykrstnd/status/1433243...</td>\n",
       "      <td>no_nykrstnd</td>\n",
       "      <td>-Dari hasil monitoring, calon Vaksin Merah Put...</td>\n",
       "      <td>0.0</td>\n",
       "    </tr>\n",
       "    <tr>\n",
       "      <th>1</th>\n",
       "      <td>2021-07-15 06:09:36+00:00</td>\n",
       "      <td>https://twitter.com/DakwahMujahidah/status/141...</td>\n",
       "      <td>DakwahMujahidah</td>\n",
       "      <td>[PODCAST] Ngomong Politik - Ilusi Penguatan Ke...</td>\n",
       "      <td>0.0</td>\n",
       "    </tr>\n",
       "    <tr>\n",
       "      <th>2</th>\n",
       "      <td>2021-07-05 08:57:50+00:00</td>\n",
       "      <td>https://twitter.com/gamisjohor/status/14119725...</td>\n",
       "      <td>gamisjohor</td>\n",
       "      <td>3. GAMIS menyambut baik saranan daripada YAB P...</td>\n",
       "      <td>2.0</td>\n",
       "    </tr>\n",
       "    <tr>\n",
       "      <th>3</th>\n",
       "      <td>2021-09-09 09:17:58+00:00</td>\n",
       "      <td>https://twitter.com/inyesaw/status/14358952423...</td>\n",
       "      <td>inyesaw</td>\n",
       "      <td>@txtdaribogor Abis vaksin terbitlah positif covid</td>\n",
       "      <td>4.0</td>\n",
       "    </tr>\n",
       "    <tr>\n",
       "      <th>4</th>\n",
       "      <td>2021-01-02 04:37:14+00:00</td>\n",
       "      <td>https://twitter.com/pringgolakseno/status/1345...</td>\n",
       "      <td>pringgolakseno</td>\n",
       "      <td>Gambling, vaksin sama ga divaksin.\\nGa divaksi...</td>\n",
       "      <td>4.0</td>\n",
       "    </tr>\n",
       "  </tbody>\n",
       "</table>\n",
       "</div>"
      ],
      "text/plain": [
       "                        date  \\\n",
       "0  2021-09-02 01:39:05+00:00   \n",
       "1  2021-07-15 06:09:36+00:00   \n",
       "2  2021-07-05 08:57:50+00:00   \n",
       "3  2021-09-09 09:17:58+00:00   \n",
       "4  2021-01-02 04:37:14+00:00   \n",
       "\n",
       "                                                 url             user  \\\n",
       "0  https://twitter.com/no_nykrstnd/status/1433243...      no_nykrstnd   \n",
       "1  https://twitter.com/DakwahMujahidah/status/141...  DakwahMujahidah   \n",
       "2  https://twitter.com/gamisjohor/status/14119725...       gamisjohor   \n",
       "3  https://twitter.com/inyesaw/status/14358952423...          inyesaw   \n",
       "4  https://twitter.com/pringgolakseno/status/1345...   pringgolakseno   \n",
       "\n",
       "                                             content  label  \n",
       "0  -Dari hasil monitoring, calon Vaksin Merah Put...    0.0  \n",
       "1  [PODCAST] Ngomong Politik - Ilusi Penguatan Ke...    0.0  \n",
       "2  3. GAMIS menyambut baik saranan daripada YAB P...    2.0  \n",
       "3  @txtdaribogor Abis vaksin terbitlah positif covid    4.0  \n",
       "4  Gambling, vaksin sama ga divaksin.\\nGa divaksi...    4.0  "
      ]
     },
     "execution_count": 3,
     "metadata": {},
     "output_type": "execute_result"
    }
   ],
   "source": [
    "data = pd.read_csv(main_dir + \"sample-data.csv\")\n",
    "data.head()"
   ]
  },
  {
   "cell_type": "code",
   "execution_count": 4,
   "metadata": {},
   "outputs": [
    {
     "name": "stdout",
     "output_type": "stream",
     "text": [
      "<class 'pandas.core.frame.DataFrame'>\n",
      "Int64Index: 999 entries, 0 to 998\n",
      "Data columns (total 5 columns):\n",
      " #   Column   Non-Null Count  Dtype         \n",
      "---  ------   --------------  -----         \n",
      " 0   date     999 non-null    datetime64[ns]\n",
      " 1   url      999 non-null    object        \n",
      " 2   user     999 non-null    object        \n",
      " 3   content  999 non-null    object        \n",
      " 4   label    999 non-null    int32         \n",
      "dtypes: datetime64[ns](1), int32(1), object(3)\n",
      "memory usage: 42.9+ KB\n"
     ]
    }
   ],
   "source": [
    "data.dropna(inplace=True)\r\n",
    "data[\"date\"] = pd.to_datetime(data[\"date\"]).dt.tz_localize(None)\r\n",
    "data[\"label\"] = data[\"label\"].astype(int)\r\n",
    "# data = data[data[\"label\"] > 0]\r\n",
    "data.info()"
   ]
  },
  {
   "cell_type": "code",
   "execution_count": 5,
   "metadata": {},
   "outputs": [],
   "source": [
    "STEMMER = StemmerFactory().create_stemmer()\r\n",
    "\r\n",
    "\r\n",
    "def preprocessing(text):\r\n",
    "    text = text.lower()\r\n",
    "    text = re.sub(r\"\\s+\", \" \", text, flags=re.UNICODE)  # remove whitespace\r\n",
    "    text = emoji_to_words(text)  # remove emoji\r\n",
    "    text = unicodedata.normalize(\"NFD\", text).encode(\"ascii\", \"ignore\").decode(\"ascii\")\r\n",
    "    text = remove_html(text)  # remove html tags\r\n",
    "    text = remove_url(text)  # remove url\r\n",
    "    text = replace_word_elongation(text) # replace WE\r\n",
    "    text = replace_slang(text)  # replace slang words\r\n",
    "    # text = remove_stopwords(text)\r\n",
    "    text = text.translate(str.maketrans(\"\", \"\", string.digits))  # remove numbers\r\n",
    "    text = text.translate(\r\n",
    "        str.maketrans(string.punctuation, \" \" * len(string.punctuation))\r\n",
    "    )  # remove punctuation\r\n",
    "    text = \" \".join(text.split())\r\n",
    "    text = STEMMER.stem(text)\r\n",
    "    return \" \".join(text.split())"
   ]
  },
  {
   "cell_type": "code",
   "execution_count": 6,
   "metadata": {},
   "outputs": [
    {
     "data": {
      "application/json": {
       "ascii": false,
       "bar_format": null,
       "colour": null,
       "elapsed": 0.025997638702392578,
       "initial": 0,
       "n": 0,
       "ncols": null,
       "nrows": null,
       "postfix": null,
       "prefix": "",
       "rate": null,
       "total": 999,
       "unit": "it",
       "unit_divisor": 1000,
       "unit_scale": false
      },
      "application/vnd.jupyter.widget-view+json": {
       "model_id": "74f1bfabacd54faebe1eb38408c005e8",
       "version_major": 2,
       "version_minor": 0
      },
      "text/plain": [
       "  0%|          | 0/999 [00:00<?, ?it/s]"
      ]
     },
     "metadata": {},
     "output_type": "display_data"
    }
   ],
   "source": [
    "data[\"cleaned\"] = [preprocessing(x) for x in tqdm(data[\"content\"].values)]"
   ]
  },
  {
   "cell_type": "code",
   "execution_count": 7,
   "metadata": {},
   "outputs": [
    {
     "data": {
      "image/png": "[encoded data removed]",
      "text/plain": [
       "<Figure size 500x500 with 1 Axes>"
      ]
     },
     "metadata": {},
     "output_type": "display_data"
    }
   ],
   "source": [
    "plt.figure(figsize=(5, 5))\n",
    "sns.countplot(data=data, x=\"label\")\n",
    "plt.show()"
   ]
  },
  {
   "cell_type": "code",
   "execution_count": 8,
   "metadata": {},
   "outputs": [],
   "source": [
    "from sklearn.model_selection import train_test_split, cross_val_score\r\n",
    "from sklearn.model_selection import GridSearchCV, StratifiedKFold\r\n",
    "from sklearn.pipeline import Pipeline\r\n",
    "from sklearn.feature_extraction.text import TfidfVectorizer\r\n",
    "from sklearn.svm import SVC\r\n",
    "from sklearn.metrics import *"
   ]
  },
  {
   "cell_type": "code",
   "execution_count": 9,
   "metadata": {},
   "outputs": [
    {
     "data": {
      "text/plain": [
       "{'svm__C': 3.9000000000000026}"
      ]
     },
     "execution_count": 9,
     "metadata": {},
     "output_type": "execute_result"
    }
   ],
   "source": [
    "pipe = Pipeline(\r\n",
    "    [\r\n",
    "        (\"tf-idf\", TfidfVectorizer(max_features=3000)),\r\n",
    "        (\"svm\", SVC(kernel=\"linear\", probability=True, class_weight=\"balanced\", random_state=2022)),\r\n",
    "    ]\r\n",
    ")\r\n",
    "\r\n",
    "cv = StratifiedKFold(shuffle=True, random_state=2022)\r\n",
    "\r\n",
    "param_grid = {\r\n",
    "    \"svm__C\": np.arange(1, 4.5, 0.1),\r\n",
    "}\r\n",
    "search = GridSearchCV(pipe, param_grid, cv=cv)\r\n",
    "search.fit(data[\"cleaned\"].values, data[\"label\"].values)\r\n",
    "search.best_params_"
   ]
  },
  {
   "cell_type": "code",
   "execution_count": 10,
   "metadata": {},
   "outputs": [
    {
     "data": {
      "text/plain": [
       "[]"
      ]
     },
     "execution_count": 10,
     "metadata": {},
     "output_type": "execute_result"
    },
    {
     "data": {
      "image/png": "[encoded data removed]",
      "text/plain": [
       "<Figure size 700x500 with 1 Axes>"
      ]
     },
     "metadata": {},
     "output_type": "display_data"
    }
   ],
   "source": [
    "plt.figure(figsize=(7, 5))\r\n",
    "sns.lineplot(x=np.arange(1, 4.5, 0.1), y=search.cv_results_[\"mean_test_score\"])\r\n",
    "plt.axhline(y=search.cv_results_[\"mean_test_score\"].max(), color='r', linestyle='--')\r\n",
    "plt.fill_between(\r\n",
    "    np.arange(1, 4.5, 0.1),\r\n",
    "    search.cv_results_[\"mean_test_score\"] - search.cv_results_[\"std_test_score\"],\r\n",
    "    search.cv_results_[\"mean_test_score\"] + search.cv_results_[\"std_test_score\"],\r\n",
    "    alpha=0.2,\r\n",
    ")\r\n",
    "plt.plot()"
   ]
  },
  {
   "cell_type": "code",
   "execution_count": 11,
   "metadata": {},
   "outputs": [
    {
     "data": {
      "text/plain": [
       "0.6366582914572864"
      ]
     },
     "execution_count": 11,
     "metadata": {},
     "output_type": "execute_result"
    }
   ],
   "source": [
    "pipe = Pipeline(\r\n",
    "    [\r\n",
    "        (\"tf-idf\", TfidfVectorizer(max_features=3000)),\r\n",
    "        (\"svm\", SVC(C=3.9, kernel=\"linear\", probability=True, class_weight=\"balanced\", random_state=2022)),\r\n",
    "    ]\r\n",
    ")\r\n",
    "\r\n",
    "scores = cross_val_score(pipe, data[\"cleaned\"].values, data[\"label\"].values, cv=5)\r\n",
    "scores.mean()"
   ]
  },
  {
   "cell_type": "code",
   "execution_count": 12,
   "metadata": {},
   "outputs": [
    {
     "data": {
      "text/html": [
       "<style>#sk-container-id-1 {color: black;background-color: white;}#sk-container-id-1 pre{padding: 0;}#sk-container-id-1 div.sk-toggleable {background-color: white;}#sk-container-id-1 label.sk-toggleable__label {cursor: pointer;display: block;width: 100%;margin-bottom: 0;padding: 0.3em;box-sizing: border-box;text-align: center;}#sk-container-id-1 label.sk-toggleable__label-arrow:before {content: \"▸\";float: left;margin-right: 0.25em;color: #696969;}#sk-container-id-1 label.sk-toggleable__label-arrow:hover:before {color: black;}#sk-container-id-1 div.sk-estimator:hover label.sk-toggleable__label-arrow:before {color: black;}#sk-container-id-1 div.sk-toggleable__content {max-height: 0;max-width: 0;overflow: hidden;text-align: left;background-color: #f0f8ff;}#sk-container-id-1 div.sk-toggleable__content pre {margin: 0.2em;color: black;border-radius: 0.25em;background-color: #f0f8ff;}#sk-container-id-1 input.sk-toggleable__control:checked~div.sk-toggleable__content {max-height: 200px;max-width: 100%;overflow: auto;}#sk-container-id-1 input.sk-toggleable__control:checked~label.sk-toggleable__label-arrow:before {content: \"▾\";}#sk-container-id-1 div.sk-estimator input.sk-toggleable__control:checked~label.sk-toggleable__label {background-color: #d4ebff;}#sk-container-id-1 div.sk-label input.sk-toggleable__control:checked~label.sk-toggleable__label {background-color: #d4ebff;}#sk-container-id-1 input.sk-hidden--visually {border: 0;clip: rect(1px 1px 1px 1px);clip: rect(1px, 1px, 1px, 1px);height: 1px;margin: -1px;overflow: hidden;padding: 0;position: absolute;width: 1px;}#sk-container-id-1 div.sk-estimator {font-family: monospace;background-color: #f0f8ff;border: 1px dotted black;border-radius: 0.25em;box-sizing: border-box;margin-bottom: 0.5em;}#sk-container-id-1 div.sk-estimator:hover {background-color: #d4ebff;}#sk-container-id-1 div.sk-parallel-item::after {content: \"\";width: 100%;border-bottom: 1px solid gray;flex-grow: 1;}#sk-container-id-1 div.sk-label:hover label.sk-toggleable__label {background-color: #d4ebff;}#sk-container-id-1 div.sk-serial::before {content: \"\";position: absolute;border-left: 1px solid gray;box-sizing: border-box;top: 0;bottom: 0;left: 50%;z-index: 0;}#sk-container-id-1 div.sk-serial {display: flex;flex-direction: column;align-items: center;background-color: white;padding-right: 0.2em;padding-left: 0.2em;position: relative;}#sk-container-id-1 div.sk-item {position: relative;z-index: 1;}#sk-container-id-1 div.sk-parallel {display: flex;align-items: stretch;justify-content: center;background-color: white;position: relative;}#sk-container-id-1 div.sk-item::before, #sk-container-id-1 div.sk-parallel-item::before {content: \"\";position: absolute;border-left: 1px solid gray;box-sizing: border-box;top: 0;bottom: 0;left: 50%;z-index: -1;}#sk-container-id-1 div.sk-parallel-item {display: flex;flex-direction: column;z-index: 1;position: relative;background-color: white;}#sk-container-id-1 div.sk-parallel-item:first-child::after {align-self: flex-end;width: 50%;}#sk-container-id-1 div.sk-parallel-item:last-child::after {align-self: flex-start;width: 50%;}#sk-container-id-1 div.sk-parallel-item:only-child::after {width: 0;}#sk-container-id-1 div.sk-dashed-wrapped {border: 1px dashed gray;margin: 0 0.4em 0.5em 0.4em;box-sizing: border-box;padding-bottom: 0.4em;background-color: white;}#sk-container-id-1 div.sk-label label {font-family: monospace;font-weight: bold;display: inline-block;line-height: 1.2em;}#sk-container-id-1 div.sk-label-container {text-align: center;}#sk-container-id-1 div.sk-container {/* jupyter's `normalize.less` sets `[hidden] { display: none; }` but bootstrap.min.css set `[hidden] { display: none !important; }` so we also need the `!important` here to be able to override the default hidden behavior on the sphinx rendered scikit-learn.org. See: https://github.com/scikit-learn/scikit-learn/issues/21755 */display: inline-block !important;position: relative;}#sk-container-id-1 div.sk-text-repr-fallback {display: none;}</style><div id=\"sk-container-id-1\" class=\"sk-top-container\"><div class=\"sk-text-repr-fallback\"><pre>Pipeline(steps=[(&#x27;tf-idf&#x27;, TfidfVectorizer(max_features=3000)),\n",
       "                (&#x27;svm&#x27;,\n",
       "                 SVC(C=3.9, class_weight=&#x27;balanced&#x27;, kernel=&#x27;linear&#x27;,\n",
       "                     probability=True, random_state=2022))])</pre><b>In a Jupyter environment, please rerun this cell to show the HTML representation or trust the notebook. <br />On GitHub, the HTML representation is unable to render, please try loading this page with nbviewer.org.</b></div><div class=\"sk-container\" hidden><div class=\"sk-item sk-dashed-wrapped\"><div class=\"sk-label-container\"><div class=\"sk-label sk-toggleable\"><input class=\"sk-toggleable__control sk-hidden--visually\" id=\"sk-estimator-id-1\" type=\"checkbox\" ><label for=\"sk-estimator-id-1\" class=\"sk-toggleable__label sk-toggleable__label-arrow\">Pipeline</label><div class=\"sk-toggleable__content\"><pre>Pipeline(steps=[(&#x27;tf-idf&#x27;, TfidfVectorizer(max_features=3000)),\n",
       "                (&#x27;svm&#x27;,\n",
       "                 SVC(C=3.9, class_weight=&#x27;balanced&#x27;, kernel=&#x27;linear&#x27;,\n",
       "                     probability=True, random_state=2022))])</pre></div></div></div><div class=\"sk-serial\"><div class=\"sk-item\"><div class=\"sk-estimator sk-toggleable\"><input class=\"sk-toggleable__control sk-hidden--visually\" id=\"sk-estimator-id-2\" type=\"checkbox\" ><label for=\"sk-estimator-id-2\" class=\"sk-toggleable__label sk-toggleable__label-arrow\">TfidfVectorizer</label><div class=\"sk-toggleable__content\"><pre>TfidfVectorizer(max_features=3000)</pre></div></div></div><div class=\"sk-item\"><div class=\"sk-estimator sk-toggleable\"><input class=\"sk-toggleable__control sk-hidden--visually\" id=\"sk-estimator-id-3\" type=\"checkbox\" ><label for=\"sk-estimator-id-3\" class=\"sk-toggleable__label sk-toggleable__label-arrow\">SVC</label><div class=\"sk-toggleable__content\"><pre>SVC(C=3.9, class_weight=&#x27;balanced&#x27;, kernel=&#x27;linear&#x27;, probability=True,\n",
       "    random_state=2022)</pre></div></div></div></div></div></div></div>"
      ],
      "text/plain": [
       "Pipeline(steps=[('tf-idf', TfidfVectorizer(max_features=3000)),\n",
       "                ('svm',\n",
       "                 SVC(C=3.9, class_weight='balanced', kernel='linear',\n",
       "                     probability=True, random_state=2022))])"
      ]
     },
     "execution_count": 12,
     "metadata": {},
     "output_type": "execute_result"
    }
   ],
   "source": [
    "pipe = Pipeline(\r\n",
    "    [\r\n",
    "        (\"tf-idf\", TfidfVectorizer(max_features=3000)),\r\n",
    "        (\"svm\", SVC(C=3.9, kernel=\"linear\", probability=True, class_weight=\"balanced\", random_state=2022)),\r\n",
    "    ]\r\n",
    ")\r\n",
    "\r\n",
    "x_train, x_test, y_train, y_test = train_test_split(\r\n",
    "    data[\"cleaned\"].values,\r\n",
    "    data[\"label\"].values,\r\n",
    "    test_size=0.2,\r\n",
    "    random_state=2022,\r\n",
    "    stratify=data[\"label\"].values,\r\n",
    ")\r\n",
    "\r\n",
    "pipe.fit(x_train, y_train)"
   ]
  },
  {
   "cell_type": "code",
   "execution_count": 13,
   "metadata": {},
   "outputs": [
    {
     "name": "stdout",
     "output_type": "stream",
     "text": [
      "Accuracy : 0.65\n",
      "F1 : [0.81003584 0.22222222 0.45614035 0.22222222 0.         0.10526316\n",
      " 0.        ]\n"
     ]
    }
   ],
   "source": [
    "print(f\"Accuracy : {accuracy_score(y_test, pipe.predict(x_test))}\")\r\n",
    "print(f\"F1 : {f1_score(y_test, pipe.predict(x_test), average=None)}\")"
   ]
  },
  {
   "cell_type": "code",
   "execution_count": 15,
   "metadata": {},
   "outputs": [],
   "source": [
    "from onnx.checker import check_model\r\n",
    "from skl2onnx import convert_sklearn\r\n",
    "from skl2onnx.common.data_types import StringTensorType\r\n",
    "\r\n",
    "os.makedirs(\"../output\", exist_ok=True)\r\n",
    "\r\n",
    "initial_type = [(\"words\", StringTensorType([None, 1]))]\r\n",
    "options = {\"svm\": {\"zipmap\": False}}\r\n",
    "onnx_model = convert_sklearn(pipe, initial_types=initial_type, options=options)\r\n",
    "with open(\"../output/model.onnx\", \"wb\") as writer:\r\n",
    "    writer.write(onnx_model.SerializeToString())\r\n",
    "check_model(onnx_model)"
   ]
  },
  {
   "cell_type": "code",
   "execution_count": 16,
   "metadata": {},
   "outputs": [
    {
     "name": "stdout",
     "output_type": "stream",
     "text": [
      "Converting models with optimization style 'Fixed' and level 'all'\n",
      "Converting optimized ONNX model C:\\Users\\Wahyu Setianto\\Desktop\\Github\\skripsi\\output\\model.onnx to ORT format model C:\\Users\\Wahyu Setianto\\Desktop\\Github\\skripsi\\output\\model.ort\n",
      "Converted 1/1 models successfully.\n",
      "Generating config file from ORT format models with optimization style 'Fixed' and level 'all'\n",
      "Converting models with optimization style 'Runtime' and level 'all'\n",
      "Converting optimized ONNX model C:\\Users\\Wahyu Setianto\\Desktop\\Github\\skripsi\\output\\model.onnx to ORT format model C:\\Users\\Wahyu Setianto\\Desktop\\Github\\skripsi\\output\\model.with_runtime_opt.ort\n",
      "Converted 1/1 models successfully.\n",
      "Converting models again without runtime optimizations to generate a complete config file. These converted models are temporary and will be deleted.\n",
      "Converting optimized ONNX model C:\\Users\\Wahyu Setianto\\Desktop\\Github\\skripsi\\output\\model.onnx to ORT format model C:\\Users\\Wahyu Setianto\\Desktop\\Github\\skripsi\\output\\tmpjz44b620.without_runtime_opt\\model.ort\n",
      "Converted 1/1 models successfully.\n",
      "Generating config file from ORT format models with optimization style 'Runtime' and level 'all'\n"
     ]
    },
    {
     "name": "stderr",
     "output_type": "stream",
     "text": [
      "2022-10-11 16:07:29,640 ort_format_model.utils [INFO] - Created config in C:\\Users\\Wahyu Setianto\\Desktop\\Github\\skripsi\\output\\model.required_operators.config\n",
      "2022-10-11 16:07:29,970 ort_format_model.utils [INFO] - Created config in C:\\Users\\Wahyu Setianto\\Desktop\\Github\\skripsi\\output\\model.required_operators.with_runtime_opt.config\n"
     ]
    }
   ],
   "source": [
    "!python -m onnxruntime.tools.convert_onnx_models_to_ort \"../output/model.onnx\""
   ]
  }
 ],
 "metadata": {
  "interpreter": {
   "hash": "96ae5abf8237384420d2a4906c8d1fa9f36e683dd75bf5bf99633caef69eab48"
  },
  "kernelspec": {
   "display_name": "Python 3.8.10 64-bit ('skripsi-Fk4nygQi-py3.8': venv)",
   "name": "python3"
  },
  "language_info": {
   "name": "python",
   "version": ""
  }
 },
 "nbformat": 4,
 "nbformat_minor": 5
}