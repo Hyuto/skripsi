{
 "cells": [
  {
   "cell_type": "code",
   "execution_count": 333,
   "id": "5e7ccec5",
   "metadata": {},
   "outputs": [],
   "source": [
    "import os\n",
    "import re\n",
    "import string\n",
    "import unicodedata\n",
    "import numpy as np\n",
    "import pandas as pd\n",
    "import matplotlib.pyplot as plt\n",
    "import seaborn as sns\n",
    "from tqdm.notebook import tqdm\n",
    "from indoNLP.preprocessing import (\n",
    "    emoji_to_words,\n",
    "    remove_html,\n",
    "    remove_url,\n",
    "    replace_slang,\n",
    "    replace_word_elongation,\n",
    "    remove_stopwords,\n",
    ")\n",
    "from Sastrawi.Stemmer.StemmerFactory import StemmerFactory\n",
    "from wordcloud import WordCloud"
   ]
  },
  {
   "cell_type": "code",
   "execution_count": 334,
   "id": "db889bea",
   "metadata": {},
   "outputs": [],
   "source": [
    "local = \"../data/\"\n",
    "if os.path.isdir(local):\n",
    "    main_dir = local\n",
    "else:\n",
    "    main_dir = \"https://raw.githubusercontent.com/Hyuto/skripsi/master/data/\""
   ]
  },
  {
   "cell_type": "code",
   "execution_count": 335,
   "id": "1343c154",
   "metadata": {},
   "outputs": [
    {
     "data": {
      "text/html": [
       "<div>\n",
       "<style scoped>\n",
       "    .dataframe tbody tr th:only-of-type {\n",
       "        vertical-align: middle;\n",
       "    }\n",
       "\n",
       "    .dataframe tbody tr th {\n",
       "        vertical-align: top;\n",
       "    }\n",
       "\n",
       "    .dataframe thead th {\n",
       "        text-align: right;\n",
       "    }\n",
       "</style>\n",
       "<table border=\"1\" class=\"dataframe\">\n",
       "  <thead>\n",
       "    <tr style=\"text-align: right;\">\n",
       "      <th></th>\n",
       "      <th>date</th>\n",
       "      <th>url</th>\n",
       "      <th>user</th>\n",
       "      <th>content</th>\n",
       "      <th>label</th>\n",
       "    </tr>\n",
       "  </thead>\n",
       "  <tbody>\n",
       "    <tr>\n",
       "      <th>0</th>\n",
       "      <td>2021-09-02 01:39:05+00:00</td>\n",
       "      <td>https://twitter.com/no_nykrstnd/status/1433243...</td>\n",
       "      <td>no_nykrstnd</td>\n",
       "      <td>-Dari hasil monitoring, calon Vaksin Merah Put...</td>\n",
       "      <td>0.0</td>\n",
       "    </tr>\n",
       "    <tr>\n",
       "      <th>1</th>\n",
       "      <td>2021-07-15 06:09:36+00:00</td>\n",
       "      <td>https://twitter.com/DakwahMujahidah/status/141...</td>\n",
       "      <td>DakwahMujahidah</td>\n",
       "      <td>[PODCAST] Ngomong Politik - Ilusi Penguatan Ke...</td>\n",
       "      <td>0.0</td>\n",
       "    </tr>\n",
       "    <tr>\n",
       "      <th>2</th>\n",
       "      <td>2021-07-05 08:57:50+00:00</td>\n",
       "      <td>https://twitter.com/gamisjohor/status/14119725...</td>\n",
       "      <td>gamisjohor</td>\n",
       "      <td>3. GAMIS menyambut baik saranan daripada YAB P...</td>\n",
       "      <td>2.0</td>\n",
       "    </tr>\n",
       "    <tr>\n",
       "      <th>3</th>\n",
       "      <td>2021-09-09 09:17:58+00:00</td>\n",
       "      <td>https://twitter.com/inyesaw/status/14358952423...</td>\n",
       "      <td>inyesaw</td>\n",
       "      <td>@txtdaribogor Abis vaksin terbitlah positif covid</td>\n",
       "      <td>4.0</td>\n",
       "    </tr>\n",
       "    <tr>\n",
       "      <th>4</th>\n",
       "      <td>2021-01-02 04:37:14+00:00</td>\n",
       "      <td>https://twitter.com/pringgolakseno/status/1345...</td>\n",
       "      <td>pringgolakseno</td>\n",
       "      <td>Gambling, vaksin sama ga divaksin.\\nGa divaksi...</td>\n",
       "      <td>4.0</td>\n",
       "    </tr>\n",
       "  </tbody>\n",
       "</table>\n",
       "</div>"
      ],
      "text/plain": [
       "                        date  \\\n",
       "0  2021-09-02 01:39:05+00:00   \n",
       "1  2021-07-15 06:09:36+00:00   \n",
       "2  2021-07-05 08:57:50+00:00   \n",
       "3  2021-09-09 09:17:58+00:00   \n",
       "4  2021-01-02 04:37:14+00:00   \n",
       "\n",
       "                                                 url             user  \\\n",
       "0  https://twitter.com/no_nykrstnd/status/1433243...      no_nykrstnd   \n",
       "1  https://twitter.com/DakwahMujahidah/status/141...  DakwahMujahidah   \n",
       "2  https://twitter.com/gamisjohor/status/14119725...       gamisjohor   \n",
       "3  https://twitter.com/inyesaw/status/14358952423...          inyesaw   \n",
       "4  https://twitter.com/pringgolakseno/status/1345...   pringgolakseno   \n",
       "\n",
       "                                             content  label  \n",
       "0  -Dari hasil monitoring, calon Vaksin Merah Put...    0.0  \n",
       "1  [PODCAST] Ngomong Politik - Ilusi Penguatan Ke...    0.0  \n",
       "2  3. GAMIS menyambut baik saranan daripada YAB P...    2.0  \n",
       "3  @txtdaribogor Abis vaksin terbitlah positif covid    4.0  \n",
       "4  Gambling, vaksin sama ga divaksin.\\nGa divaksi...    4.0  "
      ]
     },
     "execution_count": 335,
     "metadata": {},
     "output_type": "execute_result"
    }
   ],
   "source": [
    "data = pd.read_csv(main_dir + \"sample-data.csv\")\n",
    "data.head()"
   ]
  },
  {
   "cell_type": "code",
   "execution_count": 336,
   "id": "9ddd663c",
   "metadata": {},
   "outputs": [
    {
     "name": "stdout",
     "output_type": "stream",
     "text": [
      "<class 'pandas.core.frame.DataFrame'>\n",
      "Int64Index: 999 entries, 0 to 998\n",
      "Data columns (total 5 columns):\n",
      " #   Column   Non-Null Count  Dtype         \n",
      "---  ------   --------------  -----         \n",
      " 0   date     999 non-null    datetime64[ns]\n",
      " 1   url      999 non-null    object        \n",
      " 2   user     999 non-null    object        \n",
      " 3   content  999 non-null    object        \n",
      " 4   label    999 non-null    int32         \n",
      "dtypes: datetime64[ns](1), int32(1), object(3)\n",
      "memory usage: 42.9+ KB\n"
     ]
    }
   ],
   "source": [
    "data.dropna(inplace=True)\n",
    "data[\"date\"] = pd.to_datetime(data[\"date\"]).dt.tz_localize(None)\n",
    "data[\"label\"] = data[\"label\"].astype(int)\n",
    "# data = data[data[\"label\"] > 0]\n",
    "data.info()"
   ]
  },
  {
   "cell_type": "code",
   "execution_count": 337,
   "id": "fb0ef29d",
   "metadata": {},
   "outputs": [],
   "source": [
    "STEMMER = StemmerFactory().create_stemmer()\n",
    "\n",
    "\n",
    "def preprocessing(text):\n",
    "    text = text.lower()\n",
    "    text = re.sub(r\"\\s+\", \" \", text, flags=re.UNICODE)  # remove whitespace\n",
    "    text = emoji_to_words(text)  # remove emoji\n",
    "    text = unicodedata.normalize(\"NFD\", text).encode(\"ascii\", \"ignore\").decode(\"ascii\")\n",
    "    text = remove_html(text)  # remove html tags\n",
    "    text = remove_url(text)  # remove url\n",
    "    text = replace_word_elongation(text)\n",
    "    text = replace_slang(text)  # replace slang words\n",
    "    # text = remove_stopwords(text)\n",
    "    text = text.translate(str.maketrans(\"\", \"\", string.digits))  # remove numbers\n",
    "    text = text.translate(\n",
    "        str.maketrans(string.punctuation, \" \" * len(string.punctuation))\n",
    "    )  # remove punctuation\n",
    "    text = \" \".join(text.split())\n",
    "    text = STEMMER.stem(text)\n",
    "    return \" \".join(text.split())"
   ]
  },
  {
   "cell_type": "code",
   "execution_count": 338,
   "id": "5444fe0c",
   "metadata": {},
   "outputs": [
    {
     "data": {
      "application/json": {
       "ascii": false,
       "bar_format": null,
       "colour": null,
       "elapsed": 0.01699519157409668,
       "initial": 0,
       "n": 0,
       "ncols": null,
       "nrows": 12,
       "postfix": null,
       "prefix": "",
       "rate": null,
       "total": 999,
       "unit": "it",
       "unit_divisor": 1000,
       "unit_scale": false
      },
      "application/vnd.jupyter.widget-view+json": {
       "model_id": "820777eeebbc4d2e8d8117bf31622080",
       "version_major": 2,
       "version_minor": 0
      },
      "text/plain": [
       "  0%|          | 0/999 [00:00<?, ?it/s]"
      ]
     },
     "metadata": {},
     "output_type": "display_data"
    }
   ],
   "source": [
    "data[\"cleaned\"] = [preprocessing(x) for x in tqdm(data[\"content\"].values)]"
   ]
  },
  {
   "cell_type": "code",
   "execution_count": 339,
   "id": "66a9f127",
   "metadata": {},
   "outputs": [
    {
     "data": {
      "image/png": "[encoded data removed]",
      "text/plain": [
       "<Figure size 500x500 with 1 Axes>"
      ]
     },
     "metadata": {},
     "output_type": "display_data"
    }
   ],
   "source": [
    "plt.figure(figsize=(5, 5))\n",
    "sns.countplot(data=data, x=\"label\")\n",
    "plt.show()"
   ]
  },
  {
   "cell_type": "code",
   "execution_count": 340,
   "id": "92e993cc",
   "metadata": {},
   "outputs": [],
   "source": [
    "from sklearn.model_selection import train_test_split, cross_val_score\n",
    "from sklearn.pipeline import Pipeline\n",
    "from sklearn.feature_extraction.text import TfidfVectorizer\n",
    "from sklearn.svm import SVC\n",
    "from sklearn.metrics import *"
   ]
  },
  {
   "cell_type": "code",
   "execution_count": 341,
   "id": "8419dcbc",
   "metadata": {},
   "outputs": [
    {
     "data": {
      "text/plain": [
       "0.6566582914572864"
      ]
     },
     "execution_count": 341,
     "metadata": {},
     "output_type": "execute_result"
    }
   ],
   "source": [
    "pipe = Pipeline(\n",
    "    [\n",
    "        (\"tf-idf\", TfidfVectorizer(max_features=3000)),\n",
    "        (\"svm\", SVC(kernel=\"linear\", random_state=2022)),\n",
    "    ]\n",
    ")\n",
    "\n",
    "scores = cross_val_score(pipe, data[\"cleaned\"].values, data[\"label\"].values, cv=5)\n",
    "scores.mean()"
   ]
  },
  {
   "cell_type": "code",
   "execution_count": 342,
   "id": "e094b948",
   "metadata": {},
   "outputs": [
    {
     "data": {
      "text/html": [
       "<style>#sk-container-id-29 {color: black;background-color: white;}#sk-container-id-29 pre{padding: 0;}#sk-container-id-29 div.sk-toggleable {background-color: white;}#sk-container-id-29 label.sk-toggleable__label {cursor: pointer;display: block;width: 100%;margin-bottom: 0;padding: 0.3em;box-sizing: border-box;text-align: center;}#sk-container-id-29 label.sk-toggleable__label-arrow:before {content: \"▸\";float: left;margin-right: 0.25em;color: #696969;}#sk-container-id-29 label.sk-toggleable__label-arrow:hover:before {color: black;}#sk-container-id-29 div.sk-estimator:hover label.sk-toggleable__label-arrow:before {color: black;}#sk-container-id-29 div.sk-toggleable__content {max-height: 0;max-width: 0;overflow: hidden;text-align: left;background-color: #f0f8ff;}#sk-container-id-29 div.sk-toggleable__content pre {margin: 0.2em;color: black;border-radius: 0.25em;background-color: #f0f8ff;}#sk-container-id-29 input.sk-toggleable__control:checked~div.sk-toggleable__content {max-height: 200px;max-width: 100%;overflow: auto;}#sk-container-id-29 input.sk-toggleable__control:checked~label.sk-toggleable__label-arrow:before {content: \"▾\";}#sk-container-id-29 div.sk-estimator input.sk-toggleable__control:checked~label.sk-toggleable__label {background-color: #d4ebff;}#sk-container-id-29 div.sk-label input.sk-toggleable__control:checked~label.sk-toggleable__label {background-color: #d4ebff;}#sk-container-id-29 input.sk-hidden--visually {border: 0;clip: rect(1px 1px 1px 1px);clip: rect(1px, 1px, 1px, 1px);height: 1px;margin: -1px;overflow: hidden;padding: 0;position: absolute;width: 1px;}#sk-container-id-29 div.sk-estimator {font-family: monospace;background-color: #f0f8ff;border: 1px dotted black;border-radius: 0.25em;box-sizing: border-box;margin-bottom: 0.5em;}#sk-container-id-29 div.sk-estimator:hover {background-color: #d4ebff;}#sk-container-id-29 div.sk-parallel-item::after {content: \"\";width: 100%;border-bottom: 1px solid gray;flex-grow: 1;}#sk-container-id-29 div.sk-label:hover label.sk-toggleable__label {background-color: #d4ebff;}#sk-container-id-29 div.sk-serial::before {content: \"\";position: absolute;border-left: 1px solid gray;box-sizing: border-box;top: 0;bottom: 0;left: 50%;z-index: 0;}#sk-container-id-29 div.sk-serial {display: flex;flex-direction: column;align-items: center;background-color: white;padding-right: 0.2em;padding-left: 0.2em;position: relative;}#sk-container-id-29 div.sk-item {position: relative;z-index: 1;}#sk-container-id-29 div.sk-parallel {display: flex;align-items: stretch;justify-content: center;background-color: white;position: relative;}#sk-container-id-29 div.sk-item::before, #sk-container-id-29 div.sk-parallel-item::before {content: \"\";position: absolute;border-left: 1px solid gray;box-sizing: border-box;top: 0;bottom: 0;left: 50%;z-index: -1;}#sk-container-id-29 div.sk-parallel-item {display: flex;flex-direction: column;z-index: 1;position: relative;background-color: white;}#sk-container-id-29 div.sk-parallel-item:first-child::after {align-self: flex-end;width: 50%;}#sk-container-id-29 div.sk-parallel-item:last-child::after {align-self: flex-start;width: 50%;}#sk-container-id-29 div.sk-parallel-item:only-child::after {width: 0;}#sk-container-id-29 div.sk-dashed-wrapped {border: 1px dashed gray;margin: 0 0.4em 0.5em 0.4em;box-sizing: border-box;padding-bottom: 0.4em;background-color: white;}#sk-container-id-29 div.sk-label label {font-family: monospace;font-weight: bold;display: inline-block;line-height: 1.2em;}#sk-container-id-29 div.sk-label-container {text-align: center;}#sk-container-id-29 div.sk-container {/* jupyter's `normalize.less` sets `[hidden] { display: none; }` but bootstrap.min.css set `[hidden] { display: none !important; }` so we also need the `!important` here to be able to override the default hidden behavior on the sphinx rendered scikit-learn.org. See: https://github.com/scikit-learn/scikit-learn/issues/21755 */display: inline-block !important;position: relative;}#sk-container-id-29 div.sk-text-repr-fallback {display: none;}</style><div id=\"sk-container-id-29\" class=\"sk-top-container\"><div class=\"sk-text-repr-fallback\"><pre>Pipeline(steps=[(&#x27;tf-idf&#x27;, TfidfVectorizer(max_features=3000)),\n",
       "                (&#x27;svm&#x27;, SVC(kernel=&#x27;linear&#x27;, random_state=2022))])</pre><b>In a Jupyter environment, please rerun this cell to show the HTML representation or trust the notebook. <br />On GitHub, the HTML representation is unable to render, please try loading this page with nbviewer.org.</b></div><div class=\"sk-container\" hidden><div class=\"sk-item sk-dashed-wrapped\"><div class=\"sk-label-container\"><div class=\"sk-label sk-toggleable\"><input class=\"sk-toggleable__control sk-hidden--visually\" id=\"sk-estimator-id-85\" type=\"checkbox\" ><label for=\"sk-estimator-id-85\" class=\"sk-toggleable__label sk-toggleable__label-arrow\">Pipeline</label><div class=\"sk-toggleable__content\"><pre>Pipeline(steps=[(&#x27;tf-idf&#x27;, TfidfVectorizer(max_features=3000)),\n",
       "                (&#x27;svm&#x27;, SVC(kernel=&#x27;linear&#x27;, random_state=2022))])</pre></div></div></div><div class=\"sk-serial\"><div class=\"sk-item\"><div class=\"sk-estimator sk-toggleable\"><input class=\"sk-toggleable__control sk-hidden--visually\" id=\"sk-estimator-id-86\" type=\"checkbox\" ><label for=\"sk-estimator-id-86\" class=\"sk-toggleable__label sk-toggleable__label-arrow\">TfidfVectorizer</label><div class=\"sk-toggleable__content\"><pre>TfidfVectorizer(max_features=3000)</pre></div></div></div><div class=\"sk-item\"><div class=\"sk-estimator sk-toggleable\"><input class=\"sk-toggleable__control sk-hidden--visually\" id=\"sk-estimator-id-87\" type=\"checkbox\" ><label for=\"sk-estimator-id-87\" class=\"sk-toggleable__label sk-toggleable__label-arrow\">SVC</label><div class=\"sk-toggleable__content\"><pre>SVC(kernel=&#x27;linear&#x27;, random_state=2022)</pre></div></div></div></div></div></div></div>"
      ],
      "text/plain": [
       "Pipeline(steps=[('tf-idf', TfidfVectorizer(max_features=3000)),\n",
       "                ('svm', SVC(kernel='linear', random_state=2022))])"
      ]
     },
     "execution_count": 342,
     "metadata": {},
     "output_type": "execute_result"
    }
   ],
   "source": [
    "pipe = Pipeline(\n",
    "    [\n",
    "        (\"tf-idf\", TfidfVectorizer(max_features=3000)),\n",
    "        (\"svm\", SVC(kernel=\"linear\", random_state=2022)),\n",
    "    ]\n",
    ")\n",
    "\n",
    "x_train, x_test, y_train, y_test = train_test_split(\n",
    "    data[\"cleaned\"].values,\n",
    "    data[\"label\"].values,\n",
    "    test_size=0.2,\n",
    "    random_state=2022,\n",
    "    stratify=data[\"label\"].values,\n",
    ")\n",
    "\n",
    "pipe.fit(x_train, y_train)"
   ]
  },
  {
   "cell_type": "code",
   "execution_count": 343,
   "id": "667b0872",
   "metadata": {},
   "outputs": [
    {
     "data": {
      "text/plain": [
       "0.645"
      ]
     },
     "execution_count": 343,
     "metadata": {},
     "output_type": "execute_result"
    }
   ],
   "source": [
    "accuracy_score(y_test, pipe.predict(x_test))"
   ]
  },
  {
   "cell_type": "code",
   "execution_count": 344,
   "id": "51a7cf58",
   "metadata": {},
   "outputs": [
    {
     "data": {
      "text/plain": [
       "array([0.7875    , 0.        , 0.17142857, 0.        , 0.        ,\n",
       "       0.        , 0.        ])"
      ]
     },
     "execution_count": 344,
     "metadata": {},
     "output_type": "execute_result"
    }
   ],
   "source": [
    "f1_score(y_test, pipe.predict(x_test), average=None)"
   ]
  }
 ],
 "metadata": {
  "interpreter": {
   "hash": "96ae5abf8237384420d2a4906c8d1fa9f36e683dd75bf5bf99633caef69eab48"
  },
  "kernelspec": {
   "display_name": "Python 3 (ipykernel)",
   "language": "python",
   "name": "python3"
  },
  "language_info": {
   "codemirror_mode": {
    "name": "ipython",
    "version": 3
   },
   "file_extension": ".py",
   "mimetype": "text/x-python",
   "name": "python",
   "nbconvert_exporter": "python",
   "pygments_lexer": "ipython3",
   "version": "3.8.10"
  }
 },
 "nbformat": 4,
 "nbformat_minor": 5
}
