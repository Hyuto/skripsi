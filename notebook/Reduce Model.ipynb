{
 "cells": [
  {
   "cell_type": "code",
   "execution_count": null,
   "id": "8e0a7d88",
   "metadata": {},
   "outputs": [],
   "source": [
    "import os\n",
    "import re\n",
    "import string\n",
    "import unicodedata\n",
    "import numpy as np\n",
    "import pandas as pd\n",
    "import matplotlib.pyplot as plt\n",
    "import seaborn as sns\n",
    "from tqdm.notebook import tqdm\n",
    "from sklearn.model_selection import train_test_split, cross_val_score\n",
    "from sklearn.model_selection import GridSearchCV, StratifiedKFold\n",
    "from sklearn.pipeline import Pipeline\n",
    "from sklearn.feature_extraction.text import TfidfVectorizer\n",
    "from sklearn.svm import SVC\n",
    "from sklearn.metrics import *\n",
    "from indoNLP.preprocessing import *\n",
    "from Sastrawi.Stemmer.StemmerFactory import StemmerFactory"
   ]
  },
  {
   "cell_type": "code",
   "execution_count": null,
   "id": "6fb3208e",
   "metadata": {},
   "outputs": [],
   "source": [
    "if os.path.isdir(\"../data/\"):\n",
    "    main_dir = \"../\"\n",
    "else:\n",
    "    main_dir = \"https://raw.githubusercontent.com/Hyuto/skripsi/master/\"\n",
    "\n",
    "SEED = 2022"
   ]
  },
  {
   "cell_type": "code",
   "execution_count": null,
   "id": "e1729056",
   "metadata": {},
   "outputs": [],
   "source": [
    "data = pd.read_csv(main_dir + \"data/sample-data.csv\")\n",
    "data.head()"
   ]
  },
  {
   "cell_type": "code",
   "execution_count": null,
   "id": "c3b8de13",
   "metadata": {},
   "outputs": [],
   "source": [
    "data.dropna(inplace=True)\n",
    "data[\"date\"] = pd.to_datetime(data[\"date\"]).dt.tz_localize(None)\n",
    "data[\"label\"] = data[\"label\"].astype(int)\n",
    "# data = data[data[\"label\"] > 0]\n",
    "data.info()"
   ]
  },
  {
   "cell_type": "code",
   "execution_count": null,
   "id": "d464a7a9",
   "metadata": {},
   "outputs": [],
   "source": [
    "STEMMER = StemmerFactory().create_stemmer()\n",
    "\n",
    "\n",
    "def preprocessing(text):\n",
    "    text = text.lower()\n",
    "    text = re.sub(r\"\\s+\", \" \", text, flags=re.UNICODE)  # remove whitespace\n",
    "    text = emoji_to_words(text)  # remove emoji\n",
    "    text = unicodedata.normalize(\"NFD\", text).encode(\"ascii\", \"ignore\").decode(\"ascii\")\n",
    "    text = remove_html(text)  # remove html tags\n",
    "    text = remove_url(text)  # remove url\n",
    "    # text = re.sub(r\"(?<![\\w@])@([\\w@]+(?:[.!][\\w@]+)*)\", \" \", text)\n",
    "    text = replace_word_elongation(text)  # replace WE\n",
    "    text = replace_slang(text)  # replace slang words\n",
    "    text = text.translate(str.maketrans(string.digits, \" \" * len(string.digits)))  # remove numbers\n",
    "    text = text.translate(\n",
    "        str.maketrans(string.punctuation, \" \" * len(string.punctuation))\n",
    "    )  # remove punctuation\n",
    "    text = \" \".join(text.split())\n",
    "    text = STEMMER.stem(text)\n",
    "    return \" \".join(text.split())\n",
    "\n",
    "\n",
    "data[\"cleaned\"] = [preprocessing(x) for x in tqdm(data[\"content\"].values)]"
   ]
  },
  {
   "cell_type": "code",
   "execution_count": null,
   "id": "2dc27d47",
   "metadata": {},
   "outputs": [],
   "source": [
    "pipe_linear = Pipeline(\n",
    "    [\n",
    "        (\"tf-idf\", TfidfVectorizer(max_features=5000)),\n",
    "        (\n",
    "            \"svm\",\n",
    "            SVC(\n",
    "                C=1.3, kernel=\"linear\", probability=True, class_weight=\"balanced\", random_state=SEED\n",
    "            ),\n",
    "        ),\n",
    "    ]\n",
    ")\n",
    "\n",
    "pipe_linear.fit(x_train, y_train)\n",
    "pd.DataFrame(classification_report(y_test, pipe_linear.predict(x_test), output_dict=True)).T"
   ]
  },
  {
   "cell_type": "code",
   "execution_count": null,
   "id": "6f39dcd8",
   "metadata": {},
   "outputs": [],
   "source": [
    "pipe_linear_small = Pipeline(\n",
    "    [\n",
    "        (\"tf-idf\", TfidfVectorizer(max_features=1000)),\n",
    "        (\n",
    "            \"svm\",\n",
    "            SVC(\n",
    "                C=1.3, kernel=\"linear\", probability=True, class_weight=\"balanced\", random_state=SEED\n",
    "            ),\n",
    "        ),\n",
    "    ]\n",
    ")\n",
    "\n",
    "pipe_linear_small.fit(x_train, y_train)\n",
    "pd.DataFrame(classification_report(y_test, pipe_linear_small.predict(x_test), output_dict=True)).T"
   ]
  },
  {
   "cell_type": "code",
   "execution_count": null,
   "id": "6d535347",
   "metadata": {},
   "outputs": [],
   "source": [
    "from onnx.checker import check_model\n",
    "from skl2onnx import convert_sklearn\n",
    "from skl2onnx.common.data_types import StringTensorType\n",
    "\n",
    "os.makedirs(\"output\", exist_ok=True)\n",
    "\n",
    "def convert2onnx(model, output_name):\n",
    "    initial_type = [(\"words\", StringTensorType([None, 1]))]\n",
    "    options = {\"svm\": {\"zipmap\": False}}\n",
    "    onnx_model = convert_sklearn(model, initial_types=initial_type, options=options)\n",
    "    with open(f\"output/model-{output_name}.onnx\", \"wb\") as writer:\n",
    "        writer.write(onnx_model.SerializeToString())\n",
    "    check_model(onnx_model)\n",
    "\n",
    "    !python -m onnxruntime.tools.convert_onnx_models_to_ort \"output/model-{output_name}.onnx\"\n",
    "    \n",
    "#convert2onnx(pipe_linear, \"svm-linear\")\n",
    "convert2onnx(pipe_linear_small, \"svm-linear-small\")"
   ]
  }
 ],
 "metadata": {
  "kernelspec": {
   "display_name": "Python 3 (ipykernel)",
   "language": "python",
   "name": "python3"
  },
  "language_info": {
   "codemirror_mode": {
    "name": "ipython",
    "version": 3
   },
   "file_extension": ".py",
   "mimetype": "text/x-python",
   "name": "python",
   "nbconvert_exporter": "python",
   "pygments_lexer": "ipython3",
   "version": "3.8.10"
  }
 },
 "nbformat": 4,
 "nbformat_minor": 5
}
